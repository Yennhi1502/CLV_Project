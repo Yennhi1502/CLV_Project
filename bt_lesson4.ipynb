{
 "cells": [
  {
   "cell_type": "code",
   "execution_count": 2,
   "metadata": {},
   "outputs": [],
   "source": [
    "import pandas as pd"
   ]
  },
  {
   "cell_type": "code",
   "execution_count": 3,
   "metadata": {},
   "outputs": [],
   "source": [
    "df = pd.read_csv('Data_raw.csv')"
   ]
  },
  {
   "cell_type": "code",
   "execution_count": 4,
   "metadata": {},
   "outputs": [
    {
     "name": "stdout",
     "output_type": "stream",
     "text": [
      "<class 'pandas.core.frame.DataFrame'>\n",
      "RangeIndex: 2423 entries, 0 to 2422\n",
      "Data columns (total 17 columns):\n",
      " #   Column                 Non-Null Count  Dtype  \n",
      "---  ------                 --------------  -----  \n",
      " 0   Unnamed: 0             2423 non-null   int64  \n",
      " 1   STT                    0 non-null      float64\n",
      " 2   Ngày tiếp nhận hồ sơ   1118 non-null   object \n",
      " 3   Họ và tên              2049 non-null   object \n",
      " 4   SĐT                    2423 non-null   int64  \n",
      " 5   Email                  2423 non-null   object \n",
      " 6   Prework                5 non-null      object \n",
      " 7   Đặc điểm ứng viên      1137 non-null   object \n",
      " 8   Công ty hiện tại       0 non-null      float64\n",
      " 9   Vị trí hiện tại        0 non-null      float64\n",
      " 10  Ví trí có thể phù hợp  561 non-null    object \n",
      " 11  Unnamed: 10            31 non-null     object \n",
      " 12  Unnamed: 11            10 non-null     object \n",
      " 13  Tình trạng             23 non-null     object \n",
      " 14  Nguồn                  911 non-null    object \n",
      " 15  FALSE                  2423 non-null   bool   \n",
      " 16  Mức độ tiềm năng       0 non-null      float64\n",
      "dtypes: bool(1), float64(4), int64(2), object(10)\n",
      "memory usage: 305.4+ KB\n"
     ]
    }
   ],
   "source": [
    "df.info()"
   ]
  },
  {
   "cell_type": "code",
   "execution_count": 5,
   "metadata": {},
   "outputs": [],
   "source": [
    "df = df.drop(['Công ty hiện tại','Vị trí hiện tại','Mức độ tiềm năng','STT','Prework'], axis = 1)"
   ]
  },
  {
   "cell_type": "code",
   "execution_count": 6,
   "metadata": {},
   "outputs": [
    {
     "name": "stdout",
     "output_type": "stream",
     "text": [
      "<class 'pandas.core.frame.DataFrame'>\n",
      "RangeIndex: 2423 entries, 0 to 2422\n",
      "Data columns (total 12 columns):\n",
      " #   Column                 Non-Null Count  Dtype \n",
      "---  ------                 --------------  ----- \n",
      " 0   Unnamed: 0             2423 non-null   int64 \n",
      " 1   Ngày tiếp nhận hồ sơ   1118 non-null   object\n",
      " 2   Họ và tên              2049 non-null   object\n",
      " 3   SĐT                    2423 non-null   int64 \n",
      " 4   Email                  2423 non-null   object\n",
      " 5   Đặc điểm ứng viên      1137 non-null   object\n",
      " 6   Ví trí có thể phù hợp  561 non-null    object\n",
      " 7   Unnamed: 10            31 non-null     object\n",
      " 8   Unnamed: 11            10 non-null     object\n",
      " 9   Tình trạng             23 non-null     object\n",
      " 10  Nguồn                  911 non-null    object\n",
      " 11  FALSE                  2423 non-null   bool  \n",
      "dtypes: bool(1), int64(2), object(9)\n",
      "memory usage: 210.7+ KB\n"
     ]
    }
   ],
   "source": [
    "df.info()"
   ]
  },
  {
   "cell_type": "code",
   "execution_count": 7,
   "metadata": {},
   "outputs": [],
   "source": [
    "df = df.rename({'Unnamed: 0': 'STT'}, axis=1)"
   ]
  },
  {
   "cell_type": "code",
   "execution_count": 8,
   "metadata": {},
   "outputs": [
    {
     "data": {
      "text/html": [
       "<div>\n",
       "<style scoped>\n",
       "    .dataframe tbody tr th:only-of-type {\n",
       "        vertical-align: middle;\n",
       "    }\n",
       "\n",
       "    .dataframe tbody tr th {\n",
       "        vertical-align: top;\n",
       "    }\n",
       "\n",
       "    .dataframe thead th {\n",
       "        text-align: right;\n",
       "    }\n",
       "</style>\n",
       "<table border=\"1\" class=\"dataframe\">\n",
       "  <thead>\n",
       "    <tr style=\"text-align: right;\">\n",
       "      <th></th>\n",
       "      <th>STT</th>\n",
       "      <th>Ngày tiếp nhận hồ sơ</th>\n",
       "      <th>Họ và tên</th>\n",
       "      <th>SĐT</th>\n",
       "      <th>Email</th>\n",
       "      <th>Đặc điểm ứng viên</th>\n",
       "      <th>Ví trí có thể phù hợp</th>\n",
       "      <th>Unnamed: 10</th>\n",
       "      <th>Unnamed: 11</th>\n",
       "      <th>Tình trạng</th>\n",
       "      <th>Nguồn</th>\n",
       "      <th>FALSE</th>\n",
       "    </tr>\n",
       "  </thead>\n",
       "  <tbody>\n",
       "    <tr>\n",
       "      <th>242</th>\n",
       "      <td>242</td>\n",
       "      <td>phuongle11296@gmail.com</td>\n",
       "      <td>NaN</td>\n",
       "      <td>696100520</td>\n",
       "      <td>jjIkvxjFZlaPr@gmail.com</td>\n",
       "      <td>NaN</td>\n",
       "      <td>NaN</td>\n",
       "      <td>NaN</td>\n",
       "      <td>FALSE</td>\n",
       "      <td>NaN</td>\n",
       "      <td>NaN</td>\n",
       "      <td>False</td>\n",
       "    </tr>\n",
       "  </tbody>\n",
       "</table>\n",
       "</div>"
      ],
      "text/plain": [
       "     STT     Ngày tiếp nhận hồ sơ Họ và tên        SĐT  \\\n",
       "242  242  phuongle11296@gmail.com       NaN  696100520   \n",
       "\n",
       "                       Email Đặc điểm ứng viên Ví trí có thể phù hợp  \\\n",
       "242  jjIkvxjFZlaPr@gmail.com               NaN                   NaN   \n",
       "\n",
       "    Unnamed: 10 Unnamed: 11 Tình trạng Nguồn  FALSE  \n",
       "242         NaN       FALSE        NaN   NaN  False  "
      ]
     },
     "execution_count": 8,
     "metadata": {},
     "output_type": "execute_result"
    }
   ],
   "source": [
    "# print(type(df['Ngày tiếp nhận hồ sơ']))\n",
    "# df['abc'] = df['Ngày tiếp nhận hồ sơ'].str.find(\"phuongle11296@gmail.com\")\n",
    "# df['Ngày tiếp nhận hồ sơ'] == \"phuongle11296@gmail.com\"\n",
    "df.loc[df['Ngày tiếp nhận hồ sơ'] == \"phuongle11296@gmail.com\"]"
   ]
  },
  {
   "cell_type": "code",
   "execution_count": 9,
   "metadata": {},
   "outputs": [],
   "source": [
    "df = df.replace(['jjIkvxjFZlaPr@gmail.com'], 'phuongle11296@gmail.com')"
   ]
  },
  {
   "cell_type": "code",
   "execution_count": 10,
   "metadata": {},
   "outputs": [
    {
     "data": {
      "text/html": [
       "<div>\n",
       "<style scoped>\n",
       "    .dataframe tbody tr th:only-of-type {\n",
       "        vertical-align: middle;\n",
       "    }\n",
       "\n",
       "    .dataframe tbody tr th {\n",
       "        vertical-align: top;\n",
       "    }\n",
       "\n",
       "    .dataframe thead th {\n",
       "        text-align: right;\n",
       "    }\n",
       "</style>\n",
       "<table border=\"1\" class=\"dataframe\">\n",
       "  <thead>\n",
       "    <tr style=\"text-align: right;\">\n",
       "      <th></th>\n",
       "      <th>STT</th>\n",
       "      <th>Ngày tiếp nhận hồ sơ</th>\n",
       "      <th>Họ và tên</th>\n",
       "      <th>SĐT</th>\n",
       "      <th>Email</th>\n",
       "      <th>Đặc điểm ứng viên</th>\n",
       "      <th>Ví trí có thể phù hợp</th>\n",
       "      <th>Unnamed: 10</th>\n",
       "      <th>Unnamed: 11</th>\n",
       "      <th>Tình trạng</th>\n",
       "      <th>Nguồn</th>\n",
       "      <th>FALSE</th>\n",
       "    </tr>\n",
       "  </thead>\n",
       "  <tbody>\n",
       "    <tr>\n",
       "      <th>242</th>\n",
       "      <td>242</td>\n",
       "      <td>phuongle11296@gmail.com</td>\n",
       "      <td>NaN</td>\n",
       "      <td>696100520</td>\n",
       "      <td>phuongle11296@gmail.com</td>\n",
       "      <td>NaN</td>\n",
       "      <td>NaN</td>\n",
       "      <td>NaN</td>\n",
       "      <td>FALSE</td>\n",
       "      <td>NaN</td>\n",
       "      <td>NaN</td>\n",
       "      <td>False</td>\n",
       "    </tr>\n",
       "  </tbody>\n",
       "</table>\n",
       "</div>"
      ],
      "text/plain": [
       "     STT     Ngày tiếp nhận hồ sơ Họ và tên        SĐT  \\\n",
       "242  242  phuongle11296@gmail.com       NaN  696100520   \n",
       "\n",
       "                       Email Đặc điểm ứng viên Ví trí có thể phù hợp  \\\n",
       "242  phuongle11296@gmail.com               NaN                   NaN   \n",
       "\n",
       "    Unnamed: 10 Unnamed: 11 Tình trạng Nguồn  FALSE  \n",
       "242         NaN       FALSE        NaN   NaN  False  "
      ]
     },
     "execution_count": 10,
     "metadata": {},
     "output_type": "execute_result"
    }
   ],
   "source": [
    "df.loc[df['Ngày tiếp nhận hồ sơ'] == \"phuongle11296@gmail.com\"]\n"
   ]
  },
  {
   "cell_type": "code",
   "execution_count": 11,
   "metadata": {},
   "outputs": [],
   "source": [
    "df = df.drop(df[df['Ngày tiếp nhận hồ sơ'] == 'phuongle11296@gmail.com'].index)"
   ]
  },
  {
   "cell_type": "code",
   "execution_count": 12,
   "metadata": {},
   "outputs": [],
   "source": [
    "df.loc[df['Email'] == 'phuongle11296@gmail.com', 'Họ và tên'] = 'Le Phuong'  "
   ]
  },
  {
   "cell_type": "code",
   "execution_count": 13,
   "metadata": {},
   "outputs": [
    {
     "data": {
      "text/html": [
       "<div>\n",
       "<style scoped>\n",
       "    .dataframe tbody tr th:only-of-type {\n",
       "        vertical-align: middle;\n",
       "    }\n",
       "\n",
       "    .dataframe tbody tr th {\n",
       "        vertical-align: top;\n",
       "    }\n",
       "\n",
       "    .dataframe thead th {\n",
       "        text-align: right;\n",
       "    }\n",
       "</style>\n",
       "<table border=\"1\" class=\"dataframe\">\n",
       "  <thead>\n",
       "    <tr style=\"text-align: right;\">\n",
       "      <th></th>\n",
       "      <th>STT</th>\n",
       "      <th>Ngày tiếp nhận hồ sơ</th>\n",
       "      <th>Họ và tên</th>\n",
       "      <th>SĐT</th>\n",
       "      <th>Email</th>\n",
       "      <th>Đặc điểm ứng viên</th>\n",
       "      <th>Ví trí có thể phù hợp</th>\n",
       "      <th>Unnamed: 10</th>\n",
       "      <th>Unnamed: 11</th>\n",
       "      <th>Tình trạng</th>\n",
       "      <th>Nguồn</th>\n",
       "      <th>FALSE</th>\n",
       "    </tr>\n",
       "  </thead>\n",
       "  <tbody>\n",
       "  </tbody>\n",
       "</table>\n",
       "</div>"
      ],
      "text/plain": [
       "Empty DataFrame\n",
       "Columns: [STT, Ngày tiếp nhận hồ sơ, Họ và tên, SĐT, Email, Đặc điểm ứng viên, Ví trí có thể phù hợp, Unnamed: 10, Unnamed: 11, Tình trạng, Nguồn, FALSE]\n",
       "Index: []"
      ]
     },
     "execution_count": 13,
     "metadata": {},
     "output_type": "execute_result"
    }
   ],
   "source": [
    "df.loc[df['Ngày tiếp nhận hồ sơ'] == \"phuongle11296@gmail.com\"]"
   ]
  },
  {
   "cell_type": "code",
   "execution_count": 14,
   "metadata": {},
   "outputs": [],
   "source": [
    "# if df['Ngày tiếp nhận hồ sơ']"
   ]
  },
  {
   "cell_type": "code",
   "execution_count": 15,
   "metadata": {},
   "outputs": [
    {
     "ename": "ValueError",
     "evalue": "time data \"thuyhong.n.437@gmail.com\" doesn't match format \"%Y-%m-%d %H:%M:%S\", at position 64. You might want to try:\n    - passing `format` if your strings have a consistent format;\n    - passing `format='ISO8601'` if your strings are all ISO8601 but not necessarily in exactly the same format;\n    - passing `format='mixed'`, and the format will be inferred for each element individually. You might want to use `dayfirst` alongside this.",
     "output_type": "error",
     "traceback": [
      "\u001b[1;31m---------------------------------------------------------------------------\u001b[0m",
      "\u001b[1;31mValueError\u001b[0m                                Traceback (most recent call last)",
      "\u001b[1;32mc:\\Users\\maitu\\Desktop\\nhi-python\\bt_lesson4.ipynb Cell 14\u001b[0m line \u001b[0;36m6\n\u001b[0;32m      <a href='vscode-notebook-cell:/c%3A/Users/maitu/Desktop/nhi-python/bt_lesson4.ipynb#X16sZmlsZQ%3D%3D?line=0'>1</a>\u001b[0m \u001b[39mfrom\u001b[39;00m \u001b[39mdatetime\u001b[39;00m \u001b[39mimport\u001b[39;00m datetime\n\u001b[0;32m      <a href='vscode-notebook-cell:/c%3A/Users/maitu/Desktop/nhi-python/bt_lesson4.ipynb#X16sZmlsZQ%3D%3D?line=2'>3</a>\u001b[0m \u001b[39m# if(isinstance(df['Ngày tiếp nhận hồ sơ'],datetime)):\u001b[39;00m\n\u001b[0;32m      <a href='vscode-notebook-cell:/c%3A/Users/maitu/Desktop/nhi-python/bt_lesson4.ipynb#X16sZmlsZQ%3D%3D?line=3'>4</a>\u001b[0m \u001b[39m#     print('a')\u001b[39;00m\n\u001b[0;32m      <a href='vscode-notebook-cell:/c%3A/Users/maitu/Desktop/nhi-python/bt_lesson4.ipynb#X16sZmlsZQ%3D%3D?line=4'>5</a>\u001b[0m \u001b[39m# try:\u001b[39;00m\n\u001b[1;32m----> <a href='vscode-notebook-cell:/c%3A/Users/maitu/Desktop/nhi-python/bt_lesson4.ipynb#X16sZmlsZQ%3D%3D?line=5'>6</a>\u001b[0m df[\u001b[39m'\u001b[39m\u001b[39mNgày tiếp nhận hồ sơ\u001b[39m\u001b[39m'\u001b[39m] \u001b[39m=\u001b[39m pd\u001b[39m.\u001b[39;49mto_datetime(df[\u001b[39m'\u001b[39;49m\u001b[39mNgày tiếp nhận hồ sơ\u001b[39;49m\u001b[39m'\u001b[39;49m])\n\u001b[0;32m      <a href='vscode-notebook-cell:/c%3A/Users/maitu/Desktop/nhi-python/bt_lesson4.ipynb#X16sZmlsZQ%3D%3D?line=6'>7</a>\u001b[0m \u001b[39m# if (pd.to_datetime(df['Ngày tiếp nhận hồ sơ']).str.isdigit()):\u001b[39;00m\n\u001b[0;32m      <a href='vscode-notebook-cell:/c%3A/Users/maitu/Desktop/nhi-python/bt_lesson4.ipynb#X16sZmlsZQ%3D%3D?line=7'>8</a>\u001b[0m \u001b[39m#     print('1')\u001b[39;00m\n\u001b[0;32m      <a href='vscode-notebook-cell:/c%3A/Users/maitu/Desktop/nhi-python/bt_lesson4.ipynb#X16sZmlsZQ%3D%3D?line=8'>9</a>\u001b[0m \u001b[39m# df\u001b[39;00m\n\u001b[0;32m     <a href='vscode-notebook-cell:/c%3A/Users/maitu/Desktop/nhi-python/bt_lesson4.ipynb#X16sZmlsZQ%3D%3D?line=9'>10</a>\u001b[0m \u001b[39mfor\u001b[39;00m x \u001b[39min\u001b[39;00m df[\u001b[39m'\u001b[39m\u001b[39mNgày tiếp nhận hồ sơ\u001b[39m\u001b[39m'\u001b[39m]:\n\u001b[0;32m     <a href='vscode-notebook-cell:/c%3A/Users/maitu/Desktop/nhi-python/bt_lesson4.ipynb#X16sZmlsZQ%3D%3D?line=10'>11</a>\u001b[0m     \u001b[39m# if (pd.to_datetime(x)):\u001b[39;00m\n",
      "File \u001b[1;32m~\\AppData\\Local\\Packages\\PythonSoftwareFoundation.Python.3.11_qbz5n2kfra8p0\\LocalCache\\local-packages\\Python311\\site-packages\\pandas\\core\\tools\\datetimes.py:1046\u001b[0m, in \u001b[0;36mto_datetime\u001b[1;34m(arg, errors, dayfirst, yearfirst, utc, format, exact, unit, infer_datetime_format, origin, cache)\u001b[0m\n\u001b[0;32m   1044\u001b[0m             result \u001b[39m=\u001b[39m arg\u001b[39m.\u001b[39mtz_localize(\u001b[39m\"\u001b[39m\u001b[39mutc\u001b[39m\u001b[39m\"\u001b[39m)\n\u001b[0;32m   1045\u001b[0m \u001b[39melif\u001b[39;00m \u001b[39misinstance\u001b[39m(arg, ABCSeries):\n\u001b[1;32m-> 1046\u001b[0m     cache_array \u001b[39m=\u001b[39m _maybe_cache(arg, \u001b[39mformat\u001b[39;49m, cache, convert_listlike)\n\u001b[0;32m   1047\u001b[0m     \u001b[39mif\u001b[39;00m \u001b[39mnot\u001b[39;00m cache_array\u001b[39m.\u001b[39mempty:\n\u001b[0;32m   1048\u001b[0m         result \u001b[39m=\u001b[39m arg\u001b[39m.\u001b[39mmap(cache_array)\n",
      "File \u001b[1;32m~\\AppData\\Local\\Packages\\PythonSoftwareFoundation.Python.3.11_qbz5n2kfra8p0\\LocalCache\\local-packages\\Python311\\site-packages\\pandas\\core\\tools\\datetimes.py:250\u001b[0m, in \u001b[0;36m_maybe_cache\u001b[1;34m(arg, format, cache, convert_listlike)\u001b[0m\n\u001b[0;32m    248\u001b[0m unique_dates \u001b[39m=\u001b[39m unique(arg)\n\u001b[0;32m    249\u001b[0m \u001b[39mif\u001b[39;00m \u001b[39mlen\u001b[39m(unique_dates) \u001b[39m<\u001b[39m \u001b[39mlen\u001b[39m(arg):\n\u001b[1;32m--> 250\u001b[0m     cache_dates \u001b[39m=\u001b[39m convert_listlike(unique_dates, \u001b[39mformat\u001b[39;49m)\n\u001b[0;32m    251\u001b[0m     \u001b[39m# GH#45319\u001b[39;00m\n\u001b[0;32m    252\u001b[0m     \u001b[39mtry\u001b[39;00m:\n",
      "File \u001b[1;32m~\\AppData\\Local\\Packages\\PythonSoftwareFoundation.Python.3.11_qbz5n2kfra8p0\\LocalCache\\local-packages\\Python311\\site-packages\\pandas\\core\\tools\\datetimes.py:453\u001b[0m, in \u001b[0;36m_convert_listlike_datetimes\u001b[1;34m(arg, format, name, utc, unit, errors, dayfirst, yearfirst, exact)\u001b[0m\n\u001b[0;32m    451\u001b[0m \u001b[39m# `format` could be inferred, or user didn't ask for mixed-format parsing.\u001b[39;00m\n\u001b[0;32m    452\u001b[0m \u001b[39mif\u001b[39;00m \u001b[39mformat\u001b[39m \u001b[39mis\u001b[39;00m \u001b[39mnot\u001b[39;00m \u001b[39mNone\u001b[39;00m \u001b[39mand\u001b[39;00m \u001b[39mformat\u001b[39m \u001b[39m!=\u001b[39m \u001b[39m\"\u001b[39m\u001b[39mmixed\u001b[39m\u001b[39m\"\u001b[39m:\n\u001b[1;32m--> 453\u001b[0m     \u001b[39mreturn\u001b[39;00m _array_strptime_with_fallback(arg, name, utc, \u001b[39mformat\u001b[39;49m, exact, errors)\n\u001b[0;32m    455\u001b[0m result, tz_parsed \u001b[39m=\u001b[39m objects_to_datetime64ns(\n\u001b[0;32m    456\u001b[0m     arg,\n\u001b[0;32m    457\u001b[0m     dayfirst\u001b[39m=\u001b[39mdayfirst,\n\u001b[1;32m   (...)\u001b[0m\n\u001b[0;32m    461\u001b[0m     allow_object\u001b[39m=\u001b[39m\u001b[39mTrue\u001b[39;00m,\n\u001b[0;32m    462\u001b[0m )\n\u001b[0;32m    464\u001b[0m \u001b[39mif\u001b[39;00m tz_parsed \u001b[39mis\u001b[39;00m \u001b[39mnot\u001b[39;00m \u001b[39mNone\u001b[39;00m:\n\u001b[0;32m    465\u001b[0m     \u001b[39m# We can take a shortcut since the datetime64 numpy array\u001b[39;00m\n\u001b[0;32m    466\u001b[0m     \u001b[39m# is in UTC\u001b[39;00m\n",
      "File \u001b[1;32m~\\AppData\\Local\\Packages\\PythonSoftwareFoundation.Python.3.11_qbz5n2kfra8p0\\LocalCache\\local-packages\\Python311\\site-packages\\pandas\\core\\tools\\datetimes.py:484\u001b[0m, in \u001b[0;36m_array_strptime_with_fallback\u001b[1;34m(arg, name, utc, fmt, exact, errors)\u001b[0m\n\u001b[0;32m    473\u001b[0m \u001b[39mdef\u001b[39;00m \u001b[39m_array_strptime_with_fallback\u001b[39m(\n\u001b[0;32m    474\u001b[0m     arg,\n\u001b[0;32m    475\u001b[0m     name,\n\u001b[1;32m   (...)\u001b[0m\n\u001b[0;32m    479\u001b[0m     errors: \u001b[39mstr\u001b[39m,\n\u001b[0;32m    480\u001b[0m ) \u001b[39m-\u001b[39m\u001b[39m>\u001b[39m Index:\n\u001b[0;32m    481\u001b[0m \u001b[39m    \u001b[39m\u001b[39m\"\"\"\u001b[39;00m\n\u001b[0;32m    482\u001b[0m \u001b[39m    Call array_strptime, with fallback behavior depending on 'errors'.\u001b[39;00m\n\u001b[0;32m    483\u001b[0m \u001b[39m    \"\"\"\u001b[39;00m\n\u001b[1;32m--> 484\u001b[0m     result, timezones \u001b[39m=\u001b[39m array_strptime(arg, fmt, exact\u001b[39m=\u001b[39;49mexact, errors\u001b[39m=\u001b[39;49merrors, utc\u001b[39m=\u001b[39;49mutc)\n\u001b[0;32m    485\u001b[0m     \u001b[39mif\u001b[39;00m \u001b[39many\u001b[39m(tz \u001b[39mis\u001b[39;00m \u001b[39mnot\u001b[39;00m \u001b[39mNone\u001b[39;00m \u001b[39mfor\u001b[39;00m tz \u001b[39min\u001b[39;00m timezones):\n\u001b[0;32m    486\u001b[0m         \u001b[39mreturn\u001b[39;00m _return_parsed_timezone_results(result, timezones, utc, name)\n",
      "File \u001b[1;32m~\\AppData\\Local\\Packages\\PythonSoftwareFoundation.Python.3.11_qbz5n2kfra8p0\\LocalCache\\local-packages\\Python311\\site-packages\\pandas\\_libs\\tslibs\\strptime.pyx:530\u001b[0m, in \u001b[0;36mpandas._libs.tslibs.strptime.array_strptime\u001b[1;34m()\u001b[0m\n",
      "File \u001b[1;32m~\\AppData\\Local\\Packages\\PythonSoftwareFoundation.Python.3.11_qbz5n2kfra8p0\\LocalCache\\local-packages\\Python311\\site-packages\\pandas\\_libs\\tslibs\\strptime.pyx:351\u001b[0m, in \u001b[0;36mpandas._libs.tslibs.strptime.array_strptime\u001b[1;34m()\u001b[0m\n",
      "\u001b[1;31mValueError\u001b[0m: time data \"thuyhong.n.437@gmail.com\" doesn't match format \"%Y-%m-%d %H:%M:%S\", at position 64. You might want to try:\n    - passing `format` if your strings have a consistent format;\n    - passing `format='ISO8601'` if your strings are all ISO8601 but not necessarily in exactly the same format;\n    - passing `format='mixed'`, and the format will be inferred for each element individually. You might want to use `dayfirst` alongside this."
     ]
    }
   ],
   "source": [
    "from datetime import datetime\n",
    "\n",
    "# if(isinstance(df['Ngày tiếp nhận hồ sơ'],datetime)):\n",
    "#     print('a')\n",
    "# try:\n",
    "df['Ngày tiếp nhận hồ sơ'] = pd.to_datetime(df['Ngày tiếp nhận hồ sơ'])\n",
    "# if (pd.to_datetime(df['Ngày tiếp nhận hồ sơ']).str.isdigit()):\n",
    "#     print('1')\n",
    "# df\n",
    "for x in df['Ngày tiếp nhận hồ sơ']:\n",
    "    # if (pd.to_datetime(x)):\n",
    "    if x.find('@gmail.com'):\n",
    "        print(x)\n"
   ]
  },
  {
   "cell_type": "code",
   "execution_count": null,
   "metadata": {},
   "outputs": [
    {
     "data": {
      "text/html": [
       "<div>\n",
       "<style scoped>\n",
       "    .dataframe tbody tr th:only-of-type {\n",
       "        vertical-align: middle;\n",
       "    }\n",
       "\n",
       "    .dataframe tbody tr th {\n",
       "        vertical-align: top;\n",
       "    }\n",
       "\n",
       "    .dataframe thead th {\n",
       "        text-align: right;\n",
       "    }\n",
       "</style>\n",
       "<table border=\"1\" class=\"dataframe\">\n",
       "  <thead>\n",
       "    <tr style=\"text-align: right;\">\n",
       "      <th></th>\n",
       "      <th>STT</th>\n",
       "      <th>Ngày tiếp nhận hồ sơ</th>\n",
       "      <th>Họ và tên</th>\n",
       "      <th>SĐT</th>\n",
       "      <th>Email</th>\n",
       "      <th>Đặc điểm ứng viên</th>\n",
       "      <th>Ví trí có thể phù hợp</th>\n",
       "      <th>Unnamed: 10</th>\n",
       "      <th>Unnamed: 11</th>\n",
       "      <th>Tình trạng</th>\n",
       "      <th>Nguồn</th>\n",
       "      <th>FALSE</th>\n",
       "    </tr>\n",
       "  </thead>\n",
       "  <tbody>\n",
       "    <tr>\n",
       "      <th>454</th>\n",
       "      <td>454</td>\n",
       "      <td>thuyhong.n.437@gmail.com</td>\n",
       "      <td>NaN</td>\n",
       "      <td>546486093</td>\n",
       "      <td>aViGivUfAdGuO@gmail.com</td>\n",
       "      <td>NaN</td>\n",
       "      <td>NaN</td>\n",
       "      <td>NaN</td>\n",
       "      <td>FALSE</td>\n",
       "      <td>NaN</td>\n",
       "      <td>NaN</td>\n",
       "      <td>False</td>\n",
       "    </tr>\n",
       "  </tbody>\n",
       "</table>\n",
       "</div>"
      ],
      "text/plain": [
       "     STT      Ngày tiếp nhận hồ sơ Họ và tên        SĐT  \\\n",
       "454  454  thuyhong.n.437@gmail.com       NaN  546486093   \n",
       "\n",
       "                       Email Đặc điểm ứng viên Ví trí có thể phù hợp  \\\n",
       "454  aViGivUfAdGuO@gmail.com               NaN                   NaN   \n",
       "\n",
       "    Unnamed: 10 Unnamed: 11 Tình trạng Nguồn  FALSE  \n",
       "454         NaN       FALSE        NaN   NaN  False  "
      ]
     },
     "execution_count": 241,
     "metadata": {},
     "output_type": "execute_result"
    }
   ],
   "source": [
    "# df.loc[df['Ngày tiếp nhận hồ sơ'] == \"thuyhong.n.437@gmail.com\"]"
   ]
  },
  {
   "cell_type": "code",
   "execution_count": null,
   "metadata": {},
   "outputs": [],
   "source": [
    "df['month'] =  df['Order Date'].str.split(r'[/|-]').str[0]\n",
    "\n",
    "df['day'] =  df['Order Date'].str.split(r'[/|-]').str[1]\n",
    "\n",
    "df['year'] =  df['Order Date'].str.split(r'[/|-]').str[2]"
   ]
  }
 ],
 "metadata": {
  "kernelspec": {
   "display_name": "Python 3",
   "language": "python",
   "name": "python3"
  },
  "language_info": {
   "codemirror_mode": {
    "name": "ipython",
    "version": 3
   },
   "file_extension": ".py",
   "mimetype": "text/x-python",
   "name": "python",
   "nbconvert_exporter": "python",
   "pygments_lexer": "ipython3",
   "version": "3.11.6"
  },
  "orig_nbformat": 4
 },
 "nbformat": 4,
 "nbformat_minor": 2
}
