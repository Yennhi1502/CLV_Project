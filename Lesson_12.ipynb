{
 "cells": [
  {
   "cell_type": "code",
   "execution_count": 259,
   "metadata": {},
   "outputs": [],
   "source": [
    "import pandas as pd\n",
    "import numpy as np\n",
    "import seaborn as sns\n",
    "import matplotlib.pyplot as plt"
   ]
  },
  {
   "cell_type": "code",
   "execution_count": 224,
   "metadata": {},
   "outputs": [],
   "source": [
    "df1 = pd.read_csv('Top 50 Animation Movies and TV Shows.csv')\n",
    "df2 = pd.read_csv('raw_titles.csv')"
   ]
  },
  {
   "cell_type": "code",
   "execution_count": 225,
   "metadata": {},
   "outputs": [
    {
     "name": "stdout",
     "output_type": "stream",
     "text": [
      "<class 'pandas.core.frame.DataFrame'>\n",
      "RangeIndex: 50 entries, 0 to 49\n",
      "Data columns (total 7 columns):\n",
      " #   Column   Non-Null Count  Dtype  \n",
      "---  ------   --------------  -----  \n",
      " 0   Ranking  50 non-null     float64\n",
      " 1   Name     50 non-null     object \n",
      " 2   Year     50 non-null     object \n",
      " 3   Minutes  46 non-null     object \n",
      " 4   genre    50 non-null     object \n",
      " 5   Rating   47 non-null     float64\n",
      " 6   Votes    47 non-null     object \n",
      "dtypes: float64(2), object(5)\n",
      "memory usage: 2.9+ KB\n"
     ]
    }
   ],
   "source": [
    "df1.info()"
   ]
  },
  {
   "cell_type": "code",
   "execution_count": 227,
   "metadata": {},
   "outputs": [],
   "source": [
    "df1['Year'] = df1['Year'].replace('(II) (2022)','(2022')"
   ]
  },
  {
   "cell_type": "code",
   "execution_count": 232,
   "metadata": {},
   "outputs": [],
   "source": [
    "df1['Year'] = df1['Year'].str[1:5]"
   ]
  },
  {
   "cell_type": "code",
   "execution_count": 234,
   "metadata": {},
   "outputs": [
    {
     "data": {
      "text/html": [
       "<div>\n",
       "<style scoped>\n",
       "    .dataframe tbody tr th:only-of-type {\n",
       "        vertical-align: middle;\n",
       "    }\n",
       "\n",
       "    .dataframe tbody tr th {\n",
       "        vertical-align: top;\n",
       "    }\n",
       "\n",
       "    .dataframe thead th {\n",
       "        text-align: right;\n",
       "    }\n",
       "</style>\n",
       "<table border=\"1\" class=\"dataframe\">\n",
       "  <thead>\n",
       "    <tr style=\"text-align: right;\">\n",
       "      <th></th>\n",
       "      <th>Ranking</th>\n",
       "      <th>Name</th>\n",
       "      <th>Year</th>\n",
       "      <th>Minutes</th>\n",
       "      <th>genre</th>\n",
       "      <th>Rating</th>\n",
       "      <th>Votes</th>\n",
       "    </tr>\n",
       "  </thead>\n",
       "  <tbody>\n",
       "    <tr>\n",
       "      <th>0</th>\n",
       "      <td>1.0</td>\n",
       "      <td>Big Mouth</td>\n",
       "      <td>2017</td>\n",
       "      <td>30 min</td>\n",
       "      <td>Animation, Comedy, Romance</td>\n",
       "      <td>7.9</td>\n",
       "      <td>79,301</td>\n",
       "    </tr>\n",
       "    <tr>\n",
       "      <th>1</th>\n",
       "      <td>2.0</td>\n",
       "      <td>The Bad Guys</td>\n",
       "      <td>2022</td>\n",
       "      <td>100 min</td>\n",
       "      <td>Animation, Adventure, Comedy</td>\n",
       "      <td>6.8</td>\n",
       "      <td>37,335</td>\n",
       "    </tr>\n",
       "    <tr>\n",
       "      <th>2</th>\n",
       "      <td>3.0</td>\n",
       "      <td>Chainsaw Man</td>\n",
       "      <td>2022</td>\n",
       "      <td>NaN</td>\n",
       "      <td>Animation, Action, Adventure</td>\n",
       "      <td>8.8</td>\n",
       "      <td>10,613</td>\n",
       "    </tr>\n",
       "    <tr>\n",
       "      <th>3</th>\n",
       "      <td>4.0</td>\n",
       "      <td>Rick and Morty</td>\n",
       "      <td>2013</td>\n",
       "      <td>23 min</td>\n",
       "      <td>Animation, Adventure, Comedy</td>\n",
       "      <td>9.1</td>\n",
       "      <td>515,315</td>\n",
       "    </tr>\n",
       "    <tr>\n",
       "      <th>4</th>\n",
       "      <td>5.0</td>\n",
       "      <td>Disenchanted</td>\n",
       "      <td>2022</td>\n",
       "      <td>NaN</td>\n",
       "      <td>Animation, Adventure, Comedy</td>\n",
       "      <td>NaN</td>\n",
       "      <td>NaN</td>\n",
       "    </tr>\n",
       "  </tbody>\n",
       "</table>\n",
       "</div>"
      ],
      "text/plain": [
       "   Ranking            Name  Year  Minutes                         genre  \\\n",
       "0      1.0       Big Mouth  2017   30 min    Animation, Comedy, Romance   \n",
       "1      2.0    The Bad Guys  2022  100 min  Animation, Adventure, Comedy   \n",
       "2      3.0    Chainsaw Man  2022      NaN  Animation, Action, Adventure   \n",
       "3      4.0  Rick and Morty  2013   23 min  Animation, Adventure, Comedy   \n",
       "4      5.0    Disenchanted  2022      NaN  Animation, Adventure, Comedy   \n",
       "\n",
       "   Rating    Votes  \n",
       "0     7.9   79,301  \n",
       "1     6.8   37,335  \n",
       "2     8.8   10,613  \n",
       "3     9.1  515,315  \n",
       "4     NaN      NaN  "
      ]
     },
     "execution_count": 234,
     "metadata": {},
     "output_type": "execute_result"
    }
   ],
   "source": [
    "df1.head(5)"
   ]
  },
  {
   "cell_type": "code",
   "execution_count": 235,
   "metadata": {},
   "outputs": [],
   "source": [
    "df1.Minutes = df1.Minutes.str.strip('[min]')"
   ]
  },
  {
   "cell_type": "code",
   "execution_count": 236,
   "metadata": {},
   "outputs": [
    {
     "data": {
      "text/html": [
       "<div>\n",
       "<style scoped>\n",
       "    .dataframe tbody tr th:only-of-type {\n",
       "        vertical-align: middle;\n",
       "    }\n",
       "\n",
       "    .dataframe tbody tr th {\n",
       "        vertical-align: top;\n",
       "    }\n",
       "\n",
       "    .dataframe thead th {\n",
       "        text-align: right;\n",
       "    }\n",
       "</style>\n",
       "<table border=\"1\" class=\"dataframe\">\n",
       "  <thead>\n",
       "    <tr style=\"text-align: right;\">\n",
       "      <th></th>\n",
       "      <th>Ranking</th>\n",
       "      <th>Name</th>\n",
       "      <th>Year</th>\n",
       "      <th>Minutes</th>\n",
       "      <th>genre</th>\n",
       "      <th>Rating</th>\n",
       "      <th>Votes</th>\n",
       "    </tr>\n",
       "  </thead>\n",
       "  <tbody>\n",
       "    <tr>\n",
       "      <th>0</th>\n",
       "      <td>1.0</td>\n",
       "      <td>Big Mouth</td>\n",
       "      <td>2017</td>\n",
       "      <td>30</td>\n",
       "      <td>Animation, Comedy, Romance</td>\n",
       "      <td>7.9</td>\n",
       "      <td>79,301</td>\n",
       "    </tr>\n",
       "    <tr>\n",
       "      <th>1</th>\n",
       "      <td>2.0</td>\n",
       "      <td>The Bad Guys</td>\n",
       "      <td>2022</td>\n",
       "      <td>100</td>\n",
       "      <td>Animation, Adventure, Comedy</td>\n",
       "      <td>6.8</td>\n",
       "      <td>37,335</td>\n",
       "    </tr>\n",
       "    <tr>\n",
       "      <th>2</th>\n",
       "      <td>3.0</td>\n",
       "      <td>Chainsaw Man</td>\n",
       "      <td>2022</td>\n",
       "      <td>NaN</td>\n",
       "      <td>Animation, Action, Adventure</td>\n",
       "      <td>8.8</td>\n",
       "      <td>10,613</td>\n",
       "    </tr>\n",
       "    <tr>\n",
       "      <th>3</th>\n",
       "      <td>4.0</td>\n",
       "      <td>Rick and Morty</td>\n",
       "      <td>2013</td>\n",
       "      <td>23</td>\n",
       "      <td>Animation, Adventure, Comedy</td>\n",
       "      <td>9.1</td>\n",
       "      <td>515,315</td>\n",
       "    </tr>\n",
       "    <tr>\n",
       "      <th>4</th>\n",
       "      <td>5.0</td>\n",
       "      <td>Disenchanted</td>\n",
       "      <td>2022</td>\n",
       "      <td>NaN</td>\n",
       "      <td>Animation, Adventure, Comedy</td>\n",
       "      <td>NaN</td>\n",
       "      <td>NaN</td>\n",
       "    </tr>\n",
       "  </tbody>\n",
       "</table>\n",
       "</div>"
      ],
      "text/plain": [
       "   Ranking            Name  Year Minutes                         genre  \\\n",
       "0      1.0       Big Mouth  2017     30     Animation, Comedy, Romance   \n",
       "1      2.0    The Bad Guys  2022    100   Animation, Adventure, Comedy   \n",
       "2      3.0    Chainsaw Man  2022     NaN  Animation, Action, Adventure   \n",
       "3      4.0  Rick and Morty  2013     23   Animation, Adventure, Comedy   \n",
       "4      5.0    Disenchanted  2022     NaN  Animation, Adventure, Comedy   \n",
       "\n",
       "   Rating    Votes  \n",
       "0     7.9   79,301  \n",
       "1     6.8   37,335  \n",
       "2     8.8   10,613  \n",
       "3     9.1  515,315  \n",
       "4     NaN      NaN  "
      ]
     },
     "execution_count": 236,
     "metadata": {},
     "output_type": "execute_result"
    }
   ],
   "source": [
    "df1.head(5)"
   ]
  },
  {
   "cell_type": "code",
   "execution_count": 260,
   "metadata": {},
   "outputs": [],
   "source": [
    "df1['Minutes'] = df1['Minutes'].replace(np.nan ,'0')"
   ]
  },
  {
   "cell_type": "code",
   "execution_count": 262,
   "metadata": {},
   "outputs": [],
   "source": [
    "df1['Rating'] = df1['Rating'].replace(np.nan ,'0')"
   ]
  },
  {
   "cell_type": "code",
   "execution_count": 264,
   "metadata": {},
   "outputs": [],
   "source": [
    "df1['Votes'] = df1['Votes'].replace(np.nan ,'0')"
   ]
  },
  {
   "cell_type": "code",
   "execution_count": 283,
   "metadata": {},
   "outputs": [],
   "source": [
    "df1 = df1.astype({\"Minutes\": int})"
   ]
  },
  {
   "cell_type": "code",
   "execution_count": 284,
   "metadata": {},
   "outputs": [],
   "source": [
    "df1 = df1.astype({\"Rating\": float})"
   ]
  },
  {
   "cell_type": "code",
   "execution_count": 289,
   "metadata": {},
   "outputs": [],
   "source": [
    "df1['Votes'] = df1['Votes'].replace(',','')"
   ]
  },
  {
   "cell_type": "code",
   "execution_count": 285,
   "metadata": {},
   "outputs": [
    {
     "name": "stdout",
     "output_type": "stream",
     "text": [
      "<class 'pandas.core.frame.DataFrame'>\n",
      "RangeIndex: 50 entries, 0 to 49\n",
      "Data columns (total 7 columns):\n",
      " #   Column   Non-Null Count  Dtype  \n",
      "---  ------   --------------  -----  \n",
      " 0   Ranking  50 non-null     float64\n",
      " 1   Name     50 non-null     object \n",
      " 2   Year     50 non-null     object \n",
      " 3   Minutes  50 non-null     int32  \n",
      " 4   genre    50 non-null     object \n",
      " 5   Rating   50 non-null     float64\n",
      " 6   Votes    50 non-null     object \n",
      "dtypes: float64(2), int32(1), object(4)\n",
      "memory usage: 2.7+ KB\n"
     ]
    }
   ],
   "source": [
    "df1.info()"
   ]
  }
 ],
 "metadata": {
  "kernelspec": {
   "display_name": "Python 3",
   "language": "python",
   "name": "python3"
  },
  "language_info": {
   "name": "python",
   "version": "3.11.4"
  },
  "orig_nbformat": 4
 },
 "nbformat": 4,
 "nbformat_minor": 2
}
